{
 "cells": [
  {
   "cell_type": "code",
   "execution_count": 69,
   "id": "f3b0ca94",
   "metadata": {},
   "outputs": [],
   "source": [
    "import pandas as pd\n",
    "import numpy as np\n",
    "import datetime as dt\n",
    "import calendar"
   ]
  },
  {
   "cell_type": "code",
   "execution_count": 70,
   "id": "29924f6b",
   "metadata": {},
   "outputs": [],
   "source": [
    "CTA_rfm = pd.read_csv('CTA_rfm_allinfo.csv')"
   ]
  },
  {
   "cell_type": "code",
   "execution_count": 71,
   "id": "d3fe2196",
   "metadata": {},
   "outputs": [
    {
     "data": {
      "text/html": [
       "<div>\n",
       "<style scoped>\n",
       "    .dataframe tbody tr th:only-of-type {\n",
       "        vertical-align: middle;\n",
       "    }\n",
       "\n",
       "    .dataframe tbody tr th {\n",
       "        vertical-align: top;\n",
       "    }\n",
       "\n",
       "    .dataframe thead th {\n",
       "        text-align: right;\n",
       "    }\n",
       "</style>\n",
       "<table border=\"1\" class=\"dataframe\">\n",
       "  <thead>\n",
       "    <tr style=\"text-align: right;\">\n",
       "      <th></th>\n",
       "      <th>Unnamed: 0</th>\n",
       "      <th>transaction_id</th>\n",
       "      <th>product_id</th>\n",
       "      <th>customer_id</th>\n",
       "      <th>transaction_date</th>\n",
       "      <th>online_order</th>\n",
       "      <th>order_status</th>\n",
       "      <th>brand</th>\n",
       "      <th>product_line</th>\n",
       "      <th>product_class</th>\n",
       "      <th>...</th>\n",
       "      <th>property_valuation</th>\n",
       "      <th>recency</th>\n",
       "      <th>frequency</th>\n",
       "      <th>monetary</th>\n",
       "      <th>R</th>\n",
       "      <th>F</th>\n",
       "      <th>M</th>\n",
       "      <th>RFMClass</th>\n",
       "      <th>RFMscore</th>\n",
       "      <th>RFM_loyalty_level</th>\n",
       "    </tr>\n",
       "  </thead>\n",
       "  <tbody>\n",
       "    <tr>\n",
       "      <th>0</th>\n",
       "      <td>0</td>\n",
       "      <td>1</td>\n",
       "      <td>2</td>\n",
       "      <td>2950</td>\n",
       "      <td>2017-02-25</td>\n",
       "      <td>False</td>\n",
       "      <td>Approved</td>\n",
       "      <td>Solex</td>\n",
       "      <td>Standard</td>\n",
       "      <td>medium</td>\n",
       "      <td>...</td>\n",
       "      <td>6</td>\n",
       "      <td>76</td>\n",
       "      <td>3</td>\n",
       "      <td>1953.15</td>\n",
       "      <td>3</td>\n",
       "      <td>4</td>\n",
       "      <td>4</td>\n",
       "      <td>344</td>\n",
       "      <td>11</td>\n",
       "      <td>Bronze</td>\n",
       "    </tr>\n",
       "  </tbody>\n",
       "</table>\n",
       "<p>1 rows × 43 columns</p>\n",
       "</div>"
      ],
      "text/plain": [
       "   Unnamed: 0  transaction_id  product_id  customer_id transaction_date  \\\n",
       "0           0               1           2         2950       2017-02-25   \n",
       "\n",
       "   online_order order_status  brand product_line product_class  ...  \\\n",
       "0         False     Approved  Solex     Standard        medium  ...   \n",
       "\n",
       "  property_valuation  recency  frequency monetary  R  F  M RFMClass RFMscore  \\\n",
       "0                  6       76          3  1953.15  3  4  4      344       11   \n",
       "\n",
       "  RFM_loyalty_level  \n",
       "0            Bronze  \n",
       "\n",
       "[1 rows x 43 columns]"
      ]
     },
     "execution_count": 71,
     "metadata": {},
     "output_type": "execute_result"
    }
   ],
   "source": [
    "CTA_rfm.head(1)"
   ]
  },
  {
   "cell_type": "code",
   "execution_count": 72,
   "id": "a77292c6",
   "metadata": {},
   "outputs": [],
   "source": [
    "old_customers = CTA_rfm[['gender','past_3_years_bike_related_purchases','job_industry_category','wealth_segment','owns_car','tenure','Age','property_valuation','RFM_loyalty_level']]"
   ]
  },
  {
   "cell_type": "code",
   "execution_count": 73,
   "id": "257d7f85",
   "metadata": {},
   "outputs": [],
   "source": [
    "old_customers = old_customers[old_customers.gender != 'Unspecified']"
   ]
  },
  {
   "cell_type": "markdown",
   "id": "02102f26",
   "metadata": {},
   "source": [
    "### Feature Engineering - Old customers dataset "
   ]
  },
  {
   "cell_type": "code",
   "execution_count": 74,
   "id": "f68f4031",
   "metadata": {},
   "outputs": [
    {
     "data": {
      "text/plain": [
       "(19122, 9)"
      ]
     },
     "execution_count": 74,
     "metadata": {},
     "output_type": "execute_result"
    }
   ],
   "source": [
    "old_customers.shape"
   ]
  },
  {
   "cell_type": "code",
   "execution_count": 75,
   "id": "e6f3bdc6",
   "metadata": {},
   "outputs": [
    {
     "data": {
      "text/plain": [
       "gender                                  object\n",
       "past_3_years_bike_related_purchases      int64\n",
       "job_industry_category                   object\n",
       "wealth_segment                          object\n",
       "owns_car                                object\n",
       "tenure                                 float64\n",
       "Age                                      int64\n",
       "property_valuation                       int64\n",
       "RFM_loyalty_level                       object\n",
       "dtype: object"
      ]
     },
     "execution_count": 75,
     "metadata": {},
     "output_type": "execute_result"
    }
   ],
   "source": [
    "old_customers.dtypes"
   ]
  },
  {
   "cell_type": "code",
   "execution_count": 76,
   "id": "3a78eeb1",
   "metadata": {},
   "outputs": [
    {
     "data": {
      "text/html": [
       "<div>\n",
       "<style scoped>\n",
       "    .dataframe tbody tr th:only-of-type {\n",
       "        vertical-align: middle;\n",
       "    }\n",
       "\n",
       "    .dataframe tbody tr th {\n",
       "        vertical-align: top;\n",
       "    }\n",
       "\n",
       "    .dataframe thead th {\n",
       "        text-align: right;\n",
       "    }\n",
       "</style>\n",
       "<table border=\"1\" class=\"dataframe\">\n",
       "  <thead>\n",
       "    <tr style=\"text-align: right;\">\n",
       "      <th></th>\n",
       "      <th>gender_Male</th>\n",
       "    </tr>\n",
       "  </thead>\n",
       "  <tbody>\n",
       "    <tr>\n",
       "      <th>0</th>\n",
       "      <td>1</td>\n",
       "    </tr>\n",
       "    <tr>\n",
       "      <th>1</th>\n",
       "      <td>1</td>\n",
       "    </tr>\n",
       "    <tr>\n",
       "      <th>2</th>\n",
       "      <td>1</td>\n",
       "    </tr>\n",
       "    <tr>\n",
       "      <th>3</th>\n",
       "      <td>0</td>\n",
       "    </tr>\n",
       "    <tr>\n",
       "      <th>4</th>\n",
       "      <td>0</td>\n",
       "    </tr>\n",
       "  </tbody>\n",
       "</table>\n",
       "</div>"
      ],
      "text/plain": [
       "   gender_Male\n",
       "0            1\n",
       "1            1\n",
       "2            1\n",
       "3            0\n",
       "4            0"
      ]
     },
     "execution_count": 76,
     "metadata": {},
     "output_type": "execute_result"
    }
   ],
   "source": [
    "# using one hot coding change gender column into binary\n",
    "gender = old_customers[['gender']]\n",
    "gender = pd.get_dummies(gender,drop_first=True)\n",
    "gender.head()"
   ]
  },
  {
   "cell_type": "code",
   "execution_count": 77,
   "id": "e1423ecf",
   "metadata": {},
   "outputs": [
    {
     "data": {
      "text/html": [
       "<div>\n",
       "<style scoped>\n",
       "    .dataframe tbody tr th:only-of-type {\n",
       "        vertical-align: middle;\n",
       "    }\n",
       "\n",
       "    .dataframe tbody tr th {\n",
       "        vertical-align: top;\n",
       "    }\n",
       "\n",
       "    .dataframe thead th {\n",
       "        text-align: right;\n",
       "    }\n",
       "</style>\n",
       "<table border=\"1\" class=\"dataframe\">\n",
       "  <thead>\n",
       "    <tr style=\"text-align: right;\">\n",
       "      <th></th>\n",
       "      <th>job_industry_category_Entertainment</th>\n",
       "      <th>job_industry_category_Financial Services</th>\n",
       "      <th>job_industry_category_Health</th>\n",
       "      <th>job_industry_category_IT</th>\n",
       "      <th>job_industry_category_Manufacturing</th>\n",
       "      <th>job_industry_category_Property</th>\n",
       "      <th>job_industry_category_Retail</th>\n",
       "      <th>job_industry_category_Telecommunications</th>\n",
       "    </tr>\n",
       "  </thead>\n",
       "  <tbody>\n",
       "    <tr>\n",
       "      <th>0</th>\n",
       "      <td>0</td>\n",
       "      <td>1</td>\n",
       "      <td>0</td>\n",
       "      <td>0</td>\n",
       "      <td>0</td>\n",
       "      <td>0</td>\n",
       "      <td>0</td>\n",
       "      <td>0</td>\n",
       "    </tr>\n",
       "    <tr>\n",
       "      <th>1</th>\n",
       "      <td>0</td>\n",
       "      <td>1</td>\n",
       "      <td>0</td>\n",
       "      <td>0</td>\n",
       "      <td>0</td>\n",
       "      <td>0</td>\n",
       "      <td>0</td>\n",
       "      <td>0</td>\n",
       "    </tr>\n",
       "    <tr>\n",
       "      <th>2</th>\n",
       "      <td>0</td>\n",
       "      <td>1</td>\n",
       "      <td>0</td>\n",
       "      <td>0</td>\n",
       "      <td>0</td>\n",
       "      <td>0</td>\n",
       "      <td>0</td>\n",
       "      <td>0</td>\n",
       "    </tr>\n",
       "    <tr>\n",
       "      <th>3</th>\n",
       "      <td>0</td>\n",
       "      <td>0</td>\n",
       "      <td>1</td>\n",
       "      <td>0</td>\n",
       "      <td>0</td>\n",
       "      <td>0</td>\n",
       "      <td>0</td>\n",
       "      <td>0</td>\n",
       "    </tr>\n",
       "    <tr>\n",
       "      <th>4</th>\n",
       "      <td>0</td>\n",
       "      <td>0</td>\n",
       "      <td>1</td>\n",
       "      <td>0</td>\n",
       "      <td>0</td>\n",
       "      <td>0</td>\n",
       "      <td>0</td>\n",
       "      <td>0</td>\n",
       "    </tr>\n",
       "  </tbody>\n",
       "</table>\n",
       "</div>"
      ],
      "text/plain": [
       "   job_industry_category_Entertainment  \\\n",
       "0                                    0   \n",
       "1                                    0   \n",
       "2                                    0   \n",
       "3                                    0   \n",
       "4                                    0   \n",
       "\n",
       "   job_industry_category_Financial Services  job_industry_category_Health  \\\n",
       "0                                         1                             0   \n",
       "1                                         1                             0   \n",
       "2                                         1                             0   \n",
       "3                                         0                             1   \n",
       "4                                         0                             1   \n",
       "\n",
       "   job_industry_category_IT  job_industry_category_Manufacturing  \\\n",
       "0                         0                                    0   \n",
       "1                         0                                    0   \n",
       "2                         0                                    0   \n",
       "3                         0                                    0   \n",
       "4                         0                                    0   \n",
       "\n",
       "   job_industry_category_Property  job_industry_category_Retail  \\\n",
       "0                               0                             0   \n",
       "1                               0                             0   \n",
       "2                               0                             0   \n",
       "3                               0                             0   \n",
       "4                               0                             0   \n",
       "\n",
       "   job_industry_category_Telecommunications  \n",
       "0                                         0  \n",
       "1                                         0  \n",
       "2                                         0  \n",
       "3                                         0  \n",
       "4                                         0  "
      ]
     },
     "execution_count": 77,
     "metadata": {},
     "output_type": "execute_result"
    }
   ],
   "source": [
    "# using one hot coding change job_industry_category column into binary\n",
    "job_industry_category = old_customers[['job_industry_category']]\n",
    "job_industry_category = pd.get_dummies(job_industry_category,drop_first=True)\n",
    "job_industry_category.head()"
   ]
  },
  {
   "cell_type": "code",
   "execution_count": 78,
   "id": "ea9315ac",
   "metadata": {},
   "outputs": [
    {
     "data": {
      "text/html": [
       "<div>\n",
       "<style scoped>\n",
       "    .dataframe tbody tr th:only-of-type {\n",
       "        vertical-align: middle;\n",
       "    }\n",
       "\n",
       "    .dataframe tbody tr th {\n",
       "        vertical-align: top;\n",
       "    }\n",
       "\n",
       "    .dataframe thead th {\n",
       "        text-align: right;\n",
       "    }\n",
       "</style>\n",
       "<table border=\"1\" class=\"dataframe\">\n",
       "  <thead>\n",
       "    <tr style=\"text-align: right;\">\n",
       "      <th></th>\n",
       "      <th>owns_car_Yes</th>\n",
       "    </tr>\n",
       "  </thead>\n",
       "  <tbody>\n",
       "    <tr>\n",
       "      <th>0</th>\n",
       "      <td>1</td>\n",
       "    </tr>\n",
       "    <tr>\n",
       "      <th>1</th>\n",
       "      <td>1</td>\n",
       "    </tr>\n",
       "    <tr>\n",
       "      <th>2</th>\n",
       "      <td>1</td>\n",
       "    </tr>\n",
       "    <tr>\n",
       "      <th>3</th>\n",
       "      <td>1</td>\n",
       "    </tr>\n",
       "    <tr>\n",
       "      <th>4</th>\n",
       "      <td>1</td>\n",
       "    </tr>\n",
       "  </tbody>\n",
       "</table>\n",
       "</div>"
      ],
      "text/plain": [
       "   owns_car_Yes\n",
       "0             1\n",
       "1             1\n",
       "2             1\n",
       "3             1\n",
       "4             1"
      ]
     },
     "execution_count": 78,
     "metadata": {},
     "output_type": "execute_result"
    }
   ],
   "source": [
    "# using one hot coding change owns_car column into binary\n",
    "owns_car = old_customers[['owns_car']]\n",
    "owns_car = pd.get_dummies(owns_car,drop_first=True)\n",
    "owns_car.head()"
   ]
  },
  {
   "cell_type": "code",
   "execution_count": 79,
   "id": "2ca9bff1",
   "metadata": {},
   "outputs": [],
   "source": [
    "# using label encoder change wealth_segment column into binary since it is an ordinal category column\n",
    "from sklearn.preprocessing import LabelEncoder\n",
    "old_customers['wealth_segment']=LabelEncoder().fit_transform(old_customers['wealth_segment'])"
   ]
  },
  {
   "cell_type": "code",
   "execution_count": 80,
   "id": "18e6c502",
   "metadata": {},
   "outputs": [],
   "source": [
    "old_customers1=old_customers[['past_3_years_bike_related_purchases','tenure','Age','property_valuation','wealth_segment']]"
   ]
  },
  {
   "cell_type": "code",
   "execution_count": 81,
   "id": "847af470",
   "metadata": {},
   "outputs": [],
   "source": [
    "#Concatenating transformed categorical columns with the old_customers dataframe\n",
    "old_customers1=pd.concat([gender,job_industry_category,owns_car,old_customers1],axis=1)"
   ]
  },
  {
   "cell_type": "code",
   "execution_count": 82,
   "id": "ad19d175",
   "metadata": {},
   "outputs": [
    {
     "data": {
      "text/plain": [
       "(19122, 15)"
      ]
     },
     "execution_count": 82,
     "metadata": {},
     "output_type": "execute_result"
    }
   ],
   "source": [
    "old_customers1.shape"
   ]
  },
  {
   "cell_type": "code",
   "execution_count": 83,
   "id": "72c79d1f",
   "metadata": {},
   "outputs": [
    {
     "data": {
      "text/html": [
       "<div>\n",
       "<style scoped>\n",
       "    .dataframe tbody tr th:only-of-type {\n",
       "        vertical-align: middle;\n",
       "    }\n",
       "\n",
       "    .dataframe tbody tr th {\n",
       "        vertical-align: top;\n",
       "    }\n",
       "\n",
       "    .dataframe thead th {\n",
       "        text-align: right;\n",
       "    }\n",
       "</style>\n",
       "<table border=\"1\" class=\"dataframe\">\n",
       "  <thead>\n",
       "    <tr style=\"text-align: right;\">\n",
       "      <th></th>\n",
       "      <th>gender_Male</th>\n",
       "      <th>job_industry_category_Entertainment</th>\n",
       "      <th>job_industry_category_Financial Services</th>\n",
       "      <th>job_industry_category_Health</th>\n",
       "      <th>job_industry_category_IT</th>\n",
       "      <th>job_industry_category_Manufacturing</th>\n",
       "      <th>job_industry_category_Property</th>\n",
       "      <th>job_industry_category_Retail</th>\n",
       "      <th>job_industry_category_Telecommunications</th>\n",
       "      <th>owns_car_Yes</th>\n",
       "      <th>past_3_years_bike_related_purchases</th>\n",
       "      <th>tenure</th>\n",
       "      <th>Age</th>\n",
       "      <th>property_valuation</th>\n",
       "      <th>wealth_segment</th>\n",
       "    </tr>\n",
       "  </thead>\n",
       "  <tbody>\n",
       "    <tr>\n",
       "      <th>0</th>\n",
       "      <td>1</td>\n",
       "      <td>0</td>\n",
       "      <td>1</td>\n",
       "      <td>0</td>\n",
       "      <td>0</td>\n",
       "      <td>0</td>\n",
       "      <td>0</td>\n",
       "      <td>0</td>\n",
       "      <td>0</td>\n",
       "      <td>1</td>\n",
       "      <td>19</td>\n",
       "      <td>10.0</td>\n",
       "      <td>66</td>\n",
       "      <td>6</td>\n",
       "      <td>2</td>\n",
       "    </tr>\n",
       "  </tbody>\n",
       "</table>\n",
       "</div>"
      ],
      "text/plain": [
       "   gender_Male  job_industry_category_Entertainment  \\\n",
       "0            1                                    0   \n",
       "\n",
       "   job_industry_category_Financial Services  job_industry_category_Health  \\\n",
       "0                                         1                             0   \n",
       "\n",
       "   job_industry_category_IT  job_industry_category_Manufacturing  \\\n",
       "0                         0                                    0   \n",
       "\n",
       "   job_industry_category_Property  job_industry_category_Retail  \\\n",
       "0                               0                             0   \n",
       "\n",
       "   job_industry_category_Telecommunications  owns_car_Yes  \\\n",
       "0                                         0             1   \n",
       "\n",
       "   past_3_years_bike_related_purchases  tenure  Age  property_valuation  \\\n",
       "0                                   19    10.0   66                   6   \n",
       "\n",
       "   wealth_segment  \n",
       "0               2  "
      ]
     },
     "execution_count": 83,
     "metadata": {},
     "output_type": "execute_result"
    }
   ],
   "source": [
    "old_customers1.head(1)"
   ]
  },
  {
   "cell_type": "markdown",
   "id": "402d23c2",
   "metadata": {},
   "source": [
    "### New customers dataset"
   ]
  },
  {
   "cell_type": "code",
   "execution_count": 84,
   "id": "3a52428d",
   "metadata": {},
   "outputs": [],
   "source": [
    "new_customers=pd.read_excel('KPMG_VI_New_raw_data_update_final.xlsx',sheet_name = 'NewCustomerList')"
   ]
  },
  {
   "cell_type": "code",
   "execution_count": 85,
   "id": "f0c36414",
   "metadata": {},
   "outputs": [
    {
     "data": {
      "text/html": [
       "<div>\n",
       "<style scoped>\n",
       "    .dataframe tbody tr th:only-of-type {\n",
       "        vertical-align: middle;\n",
       "    }\n",
       "\n",
       "    .dataframe tbody tr th {\n",
       "        vertical-align: top;\n",
       "    }\n",
       "\n",
       "    .dataframe thead th {\n",
       "        text-align: right;\n",
       "    }\n",
       "</style>\n",
       "<table border=\"1\" class=\"dataframe\">\n",
       "  <thead>\n",
       "    <tr style=\"text-align: right;\">\n",
       "      <th></th>\n",
       "      <th>first_name</th>\n",
       "      <th>last_name</th>\n",
       "      <th>gender</th>\n",
       "      <th>past_3_years_bike_related_purchases</th>\n",
       "      <th>DOB</th>\n",
       "      <th>job_title</th>\n",
       "      <th>job_industry_category</th>\n",
       "      <th>wealth_segment</th>\n",
       "      <th>deceased_indicator</th>\n",
       "      <th>owns_car</th>\n",
       "      <th>...</th>\n",
       "      <th>state</th>\n",
       "      <th>country</th>\n",
       "      <th>property_valuation</th>\n",
       "      <th>Unnamed: 16</th>\n",
       "      <th>Unnamed: 17</th>\n",
       "      <th>Unnamed: 18</th>\n",
       "      <th>Unnamed: 19</th>\n",
       "      <th>Unnamed: 20</th>\n",
       "      <th>Rank</th>\n",
       "      <th>Value</th>\n",
       "    </tr>\n",
       "  </thead>\n",
       "  <tbody>\n",
       "    <tr>\n",
       "      <th>0</th>\n",
       "      <td>Chickie</td>\n",
       "      <td>Brister</td>\n",
       "      <td>Male</td>\n",
       "      <td>86</td>\n",
       "      <td>1957-07-12</td>\n",
       "      <td>General Manager</td>\n",
       "      <td>Manufacturing</td>\n",
       "      <td>Mass Customer</td>\n",
       "      <td>N</td>\n",
       "      <td>Yes</td>\n",
       "      <td>...</td>\n",
       "      <td>QLD</td>\n",
       "      <td>Australia</td>\n",
       "      <td>6</td>\n",
       "      <td>0.96</td>\n",
       "      <td>1.2</td>\n",
       "      <td>1.5</td>\n",
       "      <td>1.275</td>\n",
       "      <td>1</td>\n",
       "      <td>1</td>\n",
       "      <td>1.71875</td>\n",
       "    </tr>\n",
       "  </tbody>\n",
       "</table>\n",
       "<p>1 rows × 23 columns</p>\n",
       "</div>"
      ],
      "text/plain": [
       "  first_name last_name gender  past_3_years_bike_related_purchases        DOB  \\\n",
       "0    Chickie   Brister   Male                                   86 1957-07-12   \n",
       "\n",
       "         job_title job_industry_category wealth_segment deceased_indicator  \\\n",
       "0  General Manager         Manufacturing  Mass Customer                  N   \n",
       "\n",
       "  owns_car  ...  state    country  property_valuation Unnamed: 16 Unnamed: 17  \\\n",
       "0      Yes  ...    QLD  Australia                   6        0.96         1.2   \n",
       "\n",
       "   Unnamed: 18  Unnamed: 19  Unnamed: 20  Rank    Value  \n",
       "0          1.5        1.275            1     1  1.71875  \n",
       "\n",
       "[1 rows x 23 columns]"
      ]
     },
     "execution_count": 85,
     "metadata": {},
     "output_type": "execute_result"
    }
   ],
   "source": [
    "new_customers.head(1)"
   ]
  },
  {
   "cell_type": "code",
   "execution_count": 86,
   "id": "9c176a4f",
   "metadata": {},
   "outputs": [],
   "source": [
    "for i in ['Unnamed: 16','Unnamed: 17','Unnamed: 18','Unnamed: 19','Unnamed: 20']:\n",
    "    new_customers.drop(i,axis=1,inplace=True)"
   ]
  },
  {
   "cell_type": "code",
   "execution_count": 87,
   "id": "9f61527c",
   "metadata": {},
   "outputs": [
    {
     "name": "stdout",
     "output_type": "stream",
     "text": [
      "<class 'pandas.core.frame.DataFrame'>\n",
      "RangeIndex: 1000 entries, 0 to 999\n",
      "Data columns (total 18 columns):\n",
      " #   Column                               Non-Null Count  Dtype         \n",
      "---  ------                               --------------  -----         \n",
      " 0   first_name                           1000 non-null   object        \n",
      " 1   last_name                            971 non-null    object        \n",
      " 2   gender                               1000 non-null   object        \n",
      " 3   past_3_years_bike_related_purchases  1000 non-null   int64         \n",
      " 4   DOB                                  983 non-null    datetime64[ns]\n",
      " 5   job_title                            894 non-null    object        \n",
      " 6   job_industry_category                835 non-null    object        \n",
      " 7   wealth_segment                       1000 non-null   object        \n",
      " 8   deceased_indicator                   1000 non-null   object        \n",
      " 9   owns_car                             1000 non-null   object        \n",
      " 10  tenure                               1000 non-null   int64         \n",
      " 11  address                              1000 non-null   object        \n",
      " 12  postcode                             1000 non-null   int64         \n",
      " 13  state                                1000 non-null   object        \n",
      " 14  country                              1000 non-null   object        \n",
      " 15  property_valuation                   1000 non-null   int64         \n",
      " 16  Rank                                 1000 non-null   int64         \n",
      " 17  Value                                1000 non-null   float64       \n",
      "dtypes: datetime64[ns](1), float64(1), int64(5), object(11)\n",
      "memory usage: 140.8+ KB\n"
     ]
    }
   ],
   "source": [
    "new_customers.info()"
   ]
  },
  {
   "cell_type": "code",
   "execution_count": 88,
   "id": "1e8a56fc",
   "metadata": {},
   "outputs": [
    {
     "data": {
      "text/plain": [
       "0"
      ]
     },
     "execution_count": 88,
     "metadata": {},
     "output_type": "execute_result"
    }
   ],
   "source": [
    "new_customers.duplicated().sum()"
   ]
  },
  {
   "cell_type": "code",
   "execution_count": 89,
   "id": "7f436c7b",
   "metadata": {},
   "outputs": [
    {
     "data": {
      "text/plain": [
       "['first_name',\n",
       " 'last_name',\n",
       " 'gender',\n",
       " 'job_title',\n",
       " 'job_industry_category',\n",
       " 'wealth_segment',\n",
       " 'deceased_indicator',\n",
       " 'owns_car',\n",
       " 'address',\n",
       " 'state',\n",
       " 'country']"
      ]
     },
     "execution_count": 89,
     "metadata": {},
     "output_type": "execute_result"
    }
   ],
   "source": [
    "cat_col = [col for col in new_customers.columns if new_customers[col].dtype=='object']\n",
    "cat_col"
   ]
  },
  {
   "cell_type": "code",
   "execution_count": 90,
   "id": "bcb69821",
   "metadata": {},
   "outputs": [
    {
     "name": "stdout",
     "output_type": "stream",
     "text": [
      "first_name\n",
      "Rozamond     3\n",
      "Dorian       3\n",
      "Mandie       3\n",
      "Tyne         2\n",
      "Kippar       2\n",
      "            ..\n",
      "Gardiner     1\n",
      "Cecil        1\n",
      "Brigg        1\n",
      "Rosemonde    1\n",
      "Berenice     1\n",
      "Name: first_name, Length: 940, dtype: int64\n",
      "*****\n",
      "last_name\n",
      "Sissel      2\n",
      "Hallt       2\n",
      "Eade        2\n",
      "Borsi       2\n",
      "Crellim     2\n",
      "           ..\n",
      "Mangion     1\n",
      "Whitwell    1\n",
      "Marrow      1\n",
      "Kibble      1\n",
      "Kybbye      1\n",
      "Name: last_name, Length: 961, dtype: int64\n",
      "*****\n",
      "gender\n",
      "Female    513\n",
      "Male      470\n",
      "U          17\n",
      "Name: gender, dtype: int64\n",
      "*****\n",
      "job_title\n",
      "Associate Professor             15\n",
      "Environmental Tech              14\n",
      "Software Consultant             14\n",
      "Chief Design Engineer           13\n",
      "Assistant Manager               12\n",
      "                                ..\n",
      "Computer Systems Analyst III     1\n",
      "Automation Specialist IV         1\n",
      "Human Resources Assistant IV     1\n",
      "Budget/Accounting Analyst I      1\n",
      "Safety Technician II             1\n",
      "Name: job_title, Length: 184, dtype: int64\n",
      "*****\n",
      "job_industry_category\n",
      "Financial Services    203\n",
      "Manufacturing         199\n",
      "Health                152\n",
      "Retail                 78\n",
      "Property               64\n",
      "IT                     51\n",
      "Entertainment          37\n",
      "Argiculture            26\n",
      "Telecommunications     25\n",
      "Name: job_industry_category, dtype: int64\n",
      "*****\n",
      "wealth_segment\n",
      "Mass Customer        508\n",
      "High Net Worth       251\n",
      "Affluent Customer    241\n",
      "Name: wealth_segment, dtype: int64\n",
      "*****\n",
      "deceased_indicator\n",
      "N    1000\n",
      "Name: deceased_indicator, dtype: int64\n",
      "*****\n",
      "owns_car\n",
      "No     507\n",
      "Yes    493\n",
      "Name: owns_car, dtype: int64\n",
      "*****\n",
      "address\n",
      "2 Namekagon Trail           1\n",
      "67 Grayhawk Circle          1\n",
      "192 South Junction          1\n",
      "3920 Swallow Junction       1\n",
      "42280 Namekagon Crossing    1\n",
      "                           ..\n",
      "0504 Nevada Drive           1\n",
      "59208 Barnett Avenue        1\n",
      "93 Judy Drive               1\n",
      "423 Holy Cross Lane         1\n",
      "89 Parkside Street          1\n",
      "Name: address, Length: 1000, dtype: int64\n",
      "*****\n",
      "state\n",
      "NSW    506\n",
      "VIC    266\n",
      "QLD    228\n",
      "Name: state, dtype: int64\n",
      "*****\n",
      "country\n",
      "Australia    1000\n",
      "Name: country, dtype: int64\n",
      "*****\n"
     ]
    }
   ],
   "source": [
    "for col in cat_col:\n",
    "    print(col)\n",
    "    print(new_customers[col].value_counts())\n",
    "    print('*****')"
   ]
  },
  {
   "cell_type": "markdown",
   "id": "f2388b34",
   "metadata": {},
   "source": [
    "### Features Engineering - New customers dataset"
   ]
  },
  {
   "cell_type": "code",
   "execution_count": 91,
   "id": "e379130e",
   "metadata": {},
   "outputs": [
    {
     "data": {
      "text/html": [
       "<div>\n",
       "<style scoped>\n",
       "    .dataframe tbody tr th:only-of-type {\n",
       "        vertical-align: middle;\n",
       "    }\n",
       "\n",
       "    .dataframe tbody tr th {\n",
       "        vertical-align: top;\n",
       "    }\n",
       "\n",
       "    .dataframe thead th {\n",
       "        text-align: right;\n",
       "    }\n",
       "</style>\n",
       "<table border=\"1\" class=\"dataframe\">\n",
       "  <thead>\n",
       "    <tr style=\"text-align: right;\">\n",
       "      <th></th>\n",
       "      <th>Missing (count)</th>\n",
       "      <th>Missing (%)</th>\n",
       "    </tr>\n",
       "  </thead>\n",
       "  <tbody>\n",
       "    <tr>\n",
       "      <th>first_name</th>\n",
       "      <td>0</td>\n",
       "      <td>0.0</td>\n",
       "    </tr>\n",
       "    <tr>\n",
       "      <th>last_name</th>\n",
       "      <td>29</td>\n",
       "      <td>2.9</td>\n",
       "    </tr>\n",
       "    <tr>\n",
       "      <th>gender</th>\n",
       "      <td>0</td>\n",
       "      <td>0.0</td>\n",
       "    </tr>\n",
       "    <tr>\n",
       "      <th>past_3_years_bike_related_purchases</th>\n",
       "      <td>0</td>\n",
       "      <td>0.0</td>\n",
       "    </tr>\n",
       "    <tr>\n",
       "      <th>DOB</th>\n",
       "      <td>17</td>\n",
       "      <td>1.7</td>\n",
       "    </tr>\n",
       "    <tr>\n",
       "      <th>job_title</th>\n",
       "      <td>106</td>\n",
       "      <td>10.6</td>\n",
       "    </tr>\n",
       "    <tr>\n",
       "      <th>job_industry_category</th>\n",
       "      <td>165</td>\n",
       "      <td>16.5</td>\n",
       "    </tr>\n",
       "    <tr>\n",
       "      <th>wealth_segment</th>\n",
       "      <td>0</td>\n",
       "      <td>0.0</td>\n",
       "    </tr>\n",
       "    <tr>\n",
       "      <th>deceased_indicator</th>\n",
       "      <td>0</td>\n",
       "      <td>0.0</td>\n",
       "    </tr>\n",
       "    <tr>\n",
       "      <th>owns_car</th>\n",
       "      <td>0</td>\n",
       "      <td>0.0</td>\n",
       "    </tr>\n",
       "    <tr>\n",
       "      <th>tenure</th>\n",
       "      <td>0</td>\n",
       "      <td>0.0</td>\n",
       "    </tr>\n",
       "    <tr>\n",
       "      <th>address</th>\n",
       "      <td>0</td>\n",
       "      <td>0.0</td>\n",
       "    </tr>\n",
       "    <tr>\n",
       "      <th>postcode</th>\n",
       "      <td>0</td>\n",
       "      <td>0.0</td>\n",
       "    </tr>\n",
       "    <tr>\n",
       "      <th>state</th>\n",
       "      <td>0</td>\n",
       "      <td>0.0</td>\n",
       "    </tr>\n",
       "    <tr>\n",
       "      <th>country</th>\n",
       "      <td>0</td>\n",
       "      <td>0.0</td>\n",
       "    </tr>\n",
       "    <tr>\n",
       "      <th>property_valuation</th>\n",
       "      <td>0</td>\n",
       "      <td>0.0</td>\n",
       "    </tr>\n",
       "    <tr>\n",
       "      <th>Rank</th>\n",
       "      <td>0</td>\n",
       "      <td>0.0</td>\n",
       "    </tr>\n",
       "    <tr>\n",
       "      <th>Value</th>\n",
       "      <td>0</td>\n",
       "      <td>0.0</td>\n",
       "    </tr>\n",
       "  </tbody>\n",
       "</table>\n",
       "</div>"
      ],
      "text/plain": [
       "                                     Missing (count)  Missing (%)\n",
       "first_name                                         0          0.0\n",
       "last_name                                         29          2.9\n",
       "gender                                             0          0.0\n",
       "past_3_years_bike_related_purchases                0          0.0\n",
       "DOB                                               17          1.7\n",
       "job_title                                        106         10.6\n",
       "job_industry_category                            165         16.5\n",
       "wealth_segment                                     0          0.0\n",
       "deceased_indicator                                 0          0.0\n",
       "owns_car                                           0          0.0\n",
       "tenure                                             0          0.0\n",
       "address                                            0          0.0\n",
       "postcode                                           0          0.0\n",
       "state                                              0          0.0\n",
       "country                                            0          0.0\n",
       "property_valuation                                 0          0.0\n",
       "Rank                                               0          0.0\n",
       "Value                                              0          0.0"
      ]
     },
     "execution_count": 91,
     "metadata": {},
     "output_type": "execute_result"
    }
   ],
   "source": [
    "count_missing_new_customers = new_customers.isnull().sum()\n",
    "percent_missing_new_customers = round(new_customers.isnull().sum()/len(new_customers) * 100, 1)\n",
    "missing_new_customers = pd.concat([count_missing_new_customers, percent_missing_new_customers], axis = 1)\n",
    "missing_new_customers.columns = [\"Missing (count)\", \"Missing (%)\"]\n",
    "missing_new_customers"
   ]
  },
  {
   "cell_type": "code",
   "execution_count": 92,
   "id": "1a0a1ad7",
   "metadata": {},
   "outputs": [],
   "source": [
    "# we will fill in the job_title,job_industry_category column with the mode value in the columns\n",
    "new_customers['job_title'] = new_customers['job_title'].fillna(new_customers['job_title'].mode()[0])\n",
    "new_customers['job_industry_category'] = new_customers['job_industry_category'].fillna(new_customers['job_industry_category'].mode()[0])"
   ]
  },
  {
   "cell_type": "code",
   "execution_count": 93,
   "id": "cc4ef2cf",
   "metadata": {},
   "outputs": [],
   "source": [
    "new_customers['DOB'].dropna(inplace=True)\n",
    "new_customers['last_name'].dropna(inplace=True)"
   ]
  },
  {
   "cell_type": "code",
   "execution_count": 94,
   "id": "241fc5b8",
   "metadata": {},
   "outputs": [],
   "source": [
    "new_customers = new_customers[new_customers.gender != 'U']"
   ]
  },
  {
   "cell_type": "code",
   "execution_count": 95,
   "id": "d1984562",
   "metadata": {},
   "outputs": [],
   "source": [
    "def from_dob_to_age(i):\n",
    "    today = dt.date.today()\n",
    "    return today.year - i.year - ((today.month,today.day) < (i.month,i.day))"
   ]
  },
  {
   "cell_type": "code",
   "execution_count": 96,
   "id": "60163c40",
   "metadata": {},
   "outputs": [],
   "source": [
    "new_customers['Age'] = new_customers['DOB'].apply(lambda x: from_dob_to_age(x))"
   ]
  },
  {
   "cell_type": "code",
   "execution_count": 97,
   "id": "a32c7f59",
   "metadata": {},
   "outputs": [
    {
     "data": {
      "text/html": [
       "<div>\n",
       "<style scoped>\n",
       "    .dataframe tbody tr th:only-of-type {\n",
       "        vertical-align: middle;\n",
       "    }\n",
       "\n",
       "    .dataframe tbody tr th {\n",
       "        vertical-align: top;\n",
       "    }\n",
       "\n",
       "    .dataframe thead th {\n",
       "        text-align: right;\n",
       "    }\n",
       "</style>\n",
       "<table border=\"1\" class=\"dataframe\">\n",
       "  <thead>\n",
       "    <tr style=\"text-align: right;\">\n",
       "      <th></th>\n",
       "      <th>first_name</th>\n",
       "      <th>last_name</th>\n",
       "      <th>gender</th>\n",
       "      <th>past_3_years_bike_related_purchases</th>\n",
       "      <th>DOB</th>\n",
       "      <th>job_title</th>\n",
       "      <th>job_industry_category</th>\n",
       "      <th>wealth_segment</th>\n",
       "      <th>deceased_indicator</th>\n",
       "      <th>owns_car</th>\n",
       "      <th>tenure</th>\n",
       "      <th>address</th>\n",
       "      <th>postcode</th>\n",
       "      <th>state</th>\n",
       "      <th>country</th>\n",
       "      <th>property_valuation</th>\n",
       "      <th>Rank</th>\n",
       "      <th>Value</th>\n",
       "      <th>Age</th>\n",
       "    </tr>\n",
       "  </thead>\n",
       "  <tbody>\n",
       "    <tr>\n",
       "      <th>0</th>\n",
       "      <td>Chickie</td>\n",
       "      <td>Brister</td>\n",
       "      <td>Male</td>\n",
       "      <td>86</td>\n",
       "      <td>1957-07-12</td>\n",
       "      <td>General Manager</td>\n",
       "      <td>Manufacturing</td>\n",
       "      <td>Mass Customer</td>\n",
       "      <td>N</td>\n",
       "      <td>Yes</td>\n",
       "      <td>14</td>\n",
       "      <td>45 Shopko Center</td>\n",
       "      <td>4500</td>\n",
       "      <td>QLD</td>\n",
       "      <td>Australia</td>\n",
       "      <td>6</td>\n",
       "      <td>1</td>\n",
       "      <td>1.71875</td>\n",
       "      <td>64</td>\n",
       "    </tr>\n",
       "  </tbody>\n",
       "</table>\n",
       "</div>"
      ],
      "text/plain": [
       "  first_name last_name gender  past_3_years_bike_related_purchases        DOB  \\\n",
       "0    Chickie   Brister   Male                                   86 1957-07-12   \n",
       "\n",
       "         job_title job_industry_category wealth_segment deceased_indicator  \\\n",
       "0  General Manager         Manufacturing  Mass Customer                  N   \n",
       "\n",
       "  owns_car  tenure           address  postcode state    country  \\\n",
       "0      Yes      14  45 Shopko Center      4500   QLD  Australia   \n",
       "\n",
       "   property_valuation  Rank    Value  Age  \n",
       "0                   6     1  1.71875   64  "
      ]
     },
     "execution_count": 97,
     "metadata": {},
     "output_type": "execute_result"
    }
   ],
   "source": [
    "new_customers.head(1)"
   ]
  },
  {
   "cell_type": "code",
   "execution_count": 98,
   "id": "e758134f",
   "metadata": {},
   "outputs": [
    {
     "data": {
      "text/html": [
       "<div>\n",
       "<style scoped>\n",
       "    .dataframe tbody tr th:only-of-type {\n",
       "        vertical-align: middle;\n",
       "    }\n",
       "\n",
       "    .dataframe tbody tr th {\n",
       "        vertical-align: top;\n",
       "    }\n",
       "\n",
       "    .dataframe thead th {\n",
       "        text-align: right;\n",
       "    }\n",
       "</style>\n",
       "<table border=\"1\" class=\"dataframe\">\n",
       "  <thead>\n",
       "    <tr style=\"text-align: right;\">\n",
       "      <th></th>\n",
       "      <th>gender_Male</th>\n",
       "    </tr>\n",
       "  </thead>\n",
       "  <tbody>\n",
       "    <tr>\n",
       "      <th>0</th>\n",
       "      <td>1</td>\n",
       "    </tr>\n",
       "    <tr>\n",
       "      <th>1</th>\n",
       "      <td>1</td>\n",
       "    </tr>\n",
       "    <tr>\n",
       "      <th>2</th>\n",
       "      <td>0</td>\n",
       "    </tr>\n",
       "    <tr>\n",
       "      <th>3</th>\n",
       "      <td>0</td>\n",
       "    </tr>\n",
       "    <tr>\n",
       "      <th>4</th>\n",
       "      <td>0</td>\n",
       "    </tr>\n",
       "  </tbody>\n",
       "</table>\n",
       "</div>"
      ],
      "text/plain": [
       "   gender_Male\n",
       "0            1\n",
       "1            1\n",
       "2            0\n",
       "3            0\n",
       "4            0"
      ]
     },
     "execution_count": 98,
     "metadata": {},
     "output_type": "execute_result"
    }
   ],
   "source": [
    "# change categorical data columns into binary by one hot coding\n",
    "gender_new = new_customers[['gender']]\n",
    "gender_new = pd.get_dummies(gender_new,drop_first=True)\n",
    "gender_new.head()"
   ]
  },
  {
   "cell_type": "code",
   "execution_count": 99,
   "id": "f7df1a72",
   "metadata": {},
   "outputs": [
    {
     "data": {
      "text/html": [
       "<div>\n",
       "<style scoped>\n",
       "    .dataframe tbody tr th:only-of-type {\n",
       "        vertical-align: middle;\n",
       "    }\n",
       "\n",
       "    .dataframe tbody tr th {\n",
       "        vertical-align: top;\n",
       "    }\n",
       "\n",
       "    .dataframe thead th {\n",
       "        text-align: right;\n",
       "    }\n",
       "</style>\n",
       "<table border=\"1\" class=\"dataframe\">\n",
       "  <thead>\n",
       "    <tr style=\"text-align: right;\">\n",
       "      <th></th>\n",
       "      <th>job_industry_category_Entertainment</th>\n",
       "      <th>job_industry_category_Financial Services</th>\n",
       "      <th>job_industry_category_Health</th>\n",
       "      <th>job_industry_category_IT</th>\n",
       "      <th>job_industry_category_Manufacturing</th>\n",
       "      <th>job_industry_category_Property</th>\n",
       "      <th>job_industry_category_Retail</th>\n",
       "      <th>job_industry_category_Telecommunications</th>\n",
       "    </tr>\n",
       "  </thead>\n",
       "  <tbody>\n",
       "    <tr>\n",
       "      <th>0</th>\n",
       "      <td>0</td>\n",
       "      <td>0</td>\n",
       "      <td>0</td>\n",
       "      <td>0</td>\n",
       "      <td>1</td>\n",
       "      <td>0</td>\n",
       "      <td>0</td>\n",
       "      <td>0</td>\n",
       "    </tr>\n",
       "    <tr>\n",
       "      <th>1</th>\n",
       "      <td>0</td>\n",
       "      <td>0</td>\n",
       "      <td>0</td>\n",
       "      <td>0</td>\n",
       "      <td>0</td>\n",
       "      <td>1</td>\n",
       "      <td>0</td>\n",
       "      <td>0</td>\n",
       "    </tr>\n",
       "    <tr>\n",
       "      <th>2</th>\n",
       "      <td>0</td>\n",
       "      <td>1</td>\n",
       "      <td>0</td>\n",
       "      <td>0</td>\n",
       "      <td>0</td>\n",
       "      <td>0</td>\n",
       "      <td>0</td>\n",
       "      <td>0</td>\n",
       "    </tr>\n",
       "    <tr>\n",
       "      <th>3</th>\n",
       "      <td>0</td>\n",
       "      <td>0</td>\n",
       "      <td>0</td>\n",
       "      <td>0</td>\n",
       "      <td>1</td>\n",
       "      <td>0</td>\n",
       "      <td>0</td>\n",
       "      <td>0</td>\n",
       "    </tr>\n",
       "    <tr>\n",
       "      <th>4</th>\n",
       "      <td>0</td>\n",
       "      <td>1</td>\n",
       "      <td>0</td>\n",
       "      <td>0</td>\n",
       "      <td>0</td>\n",
       "      <td>0</td>\n",
       "      <td>0</td>\n",
       "      <td>0</td>\n",
       "    </tr>\n",
       "  </tbody>\n",
       "</table>\n",
       "</div>"
      ],
      "text/plain": [
       "   job_industry_category_Entertainment  \\\n",
       "0                                    0   \n",
       "1                                    0   \n",
       "2                                    0   \n",
       "3                                    0   \n",
       "4                                    0   \n",
       "\n",
       "   job_industry_category_Financial Services  job_industry_category_Health  \\\n",
       "0                                         0                             0   \n",
       "1                                         0                             0   \n",
       "2                                         1                             0   \n",
       "3                                         0                             0   \n",
       "4                                         1                             0   \n",
       "\n",
       "   job_industry_category_IT  job_industry_category_Manufacturing  \\\n",
       "0                         0                                    1   \n",
       "1                         0                                    0   \n",
       "2                         0                                    0   \n",
       "3                         0                                    1   \n",
       "4                         0                                    0   \n",
       "\n",
       "   job_industry_category_Property  job_industry_category_Retail  \\\n",
       "0                               0                             0   \n",
       "1                               1                             0   \n",
       "2                               0                             0   \n",
       "3                               0                             0   \n",
       "4                               0                             0   \n",
       "\n",
       "   job_industry_category_Telecommunications  \n",
       "0                                         0  \n",
       "1                                         0  \n",
       "2                                         0  \n",
       "3                                         0  \n",
       "4                                         0  "
      ]
     },
     "execution_count": 99,
     "metadata": {},
     "output_type": "execute_result"
    }
   ],
   "source": [
    "job_industry_category_new = new_customers[['job_industry_category']]\n",
    "job_industry_category_new = pd.get_dummies(job_industry_category_new,drop_first=True)\n",
    "job_industry_category_new.head()"
   ]
  },
  {
   "cell_type": "code",
   "execution_count": 100,
   "id": "af02ad31",
   "metadata": {},
   "outputs": [
    {
     "data": {
      "text/html": [
       "<div>\n",
       "<style scoped>\n",
       "    .dataframe tbody tr th:only-of-type {\n",
       "        vertical-align: middle;\n",
       "    }\n",
       "\n",
       "    .dataframe tbody tr th {\n",
       "        vertical-align: top;\n",
       "    }\n",
       "\n",
       "    .dataframe thead th {\n",
       "        text-align: right;\n",
       "    }\n",
       "</style>\n",
       "<table border=\"1\" class=\"dataframe\">\n",
       "  <thead>\n",
       "    <tr style=\"text-align: right;\">\n",
       "      <th></th>\n",
       "      <th>owns_car_Yes</th>\n",
       "    </tr>\n",
       "  </thead>\n",
       "  <tbody>\n",
       "    <tr>\n",
       "      <th>0</th>\n",
       "      <td>1</td>\n",
       "    </tr>\n",
       "    <tr>\n",
       "      <th>1</th>\n",
       "      <td>0</td>\n",
       "    </tr>\n",
       "    <tr>\n",
       "      <th>2</th>\n",
       "      <td>0</td>\n",
       "    </tr>\n",
       "    <tr>\n",
       "      <th>3</th>\n",
       "      <td>1</td>\n",
       "    </tr>\n",
       "    <tr>\n",
       "      <th>4</th>\n",
       "      <td>0</td>\n",
       "    </tr>\n",
       "  </tbody>\n",
       "</table>\n",
       "</div>"
      ],
      "text/plain": [
       "   owns_car_Yes\n",
       "0             1\n",
       "1             0\n",
       "2             0\n",
       "3             1\n",
       "4             0"
      ]
     },
     "execution_count": 100,
     "metadata": {},
     "output_type": "execute_result"
    }
   ],
   "source": [
    "owns_car_new = new_customers[['owns_car']]\n",
    "owns_car_new = pd.get_dummies(owns_car_new,drop_first=True)\n",
    "owns_car_new.head()"
   ]
  },
  {
   "cell_type": "code",
   "execution_count": 101,
   "id": "876a73ec",
   "metadata": {},
   "outputs": [],
   "source": [
    "#Transforming using label_encoder\n",
    "from sklearn.preprocessing import LabelEncoder\n",
    "new_customers['wealth_segment']=LabelEncoder().fit_transform(new_customers['wealth_segment'])"
   ]
  },
  {
   "cell_type": "code",
   "execution_count": 102,
   "id": "e17d4eea",
   "metadata": {},
   "outputs": [],
   "source": [
    "new_customers1 = new_customers[['past_3_years_bike_related_purchases','tenure','Age','property_valuation','wealth_segment']]"
   ]
  },
  {
   "cell_type": "code",
   "execution_count": 103,
   "id": "8982ec91",
   "metadata": {},
   "outputs": [],
   "source": [
    "new_customers1 = pd.concat([gender_new,job_industry_category_new,owns_car_new,new_customers1],axis=1)"
   ]
  },
  {
   "cell_type": "code",
   "execution_count": 104,
   "id": "b1668fdc",
   "metadata": {},
   "outputs": [
    {
     "data": {
      "text/plain": [
       "(19122, 15)"
      ]
     },
     "execution_count": 104,
     "metadata": {},
     "output_type": "execute_result"
    }
   ],
   "source": [
    "old_customers1.shape"
   ]
  },
  {
   "cell_type": "code",
   "execution_count": 105,
   "id": "9667bb67",
   "metadata": {},
   "outputs": [
    {
     "data": {
      "text/plain": [
       "(983, 15)"
      ]
     },
     "execution_count": 105,
     "metadata": {},
     "output_type": "execute_result"
    }
   ],
   "source": [
    "new_customers1.shape"
   ]
  },
  {
   "cell_type": "markdown",
   "id": "cc595948",
   "metadata": {},
   "source": [
    "### Model Building"
   ]
  },
  {
   "cell_type": "code",
   "execution_count": 106,
   "id": "3ef8f4af",
   "metadata": {},
   "outputs": [],
   "source": [
    "from sklearn.model_selection import train_test_split\n",
    "train_features, test_features, train_labels, test_labels = train_test_split(old_customers1,\n",
    "                                                                            old_customers['RFM_loyalty_level'],\n",
    "                                                                            test_size= 0.25, random_state=10,)"
   ]
  },
  {
   "cell_type": "markdown",
   "id": "d96c324c",
   "metadata": {},
   "source": [
    "##### Decision Tree"
   ]
  },
  {
   "cell_type": "code",
   "execution_count": 107,
   "id": "924d24b2",
   "metadata": {},
   "outputs": [
    {
     "data": {
      "text/plain": [
       "DecisionTreeClassifier(random_state=10)"
      ]
     },
     "execution_count": 107,
     "metadata": {},
     "output_type": "execute_result"
    }
   ],
   "source": [
    "from sklearn.tree import DecisionTreeClassifier\n",
    "tree = DecisionTreeClassifier(random_state=10)\n",
    "tree.fit(train_features,train_labels)"
   ]
  },
  {
   "cell_type": "code",
   "execution_count": 108,
   "id": "6b0bcfdf",
   "metadata": {},
   "outputs": [],
   "source": [
    "pred_labels_tree = tree.predict(test_features)"
   ]
  },
  {
   "cell_type": "code",
   "execution_count": 110,
   "id": "f6130c6a",
   "metadata": {},
   "outputs": [
    {
     "name": "stdout",
     "output_type": "stream",
     "text": [
      "Decision Tree: \n",
      "               precision    recall  f1-score   support\n",
      "\n",
      "      Bronze       1.00      0.94      0.97       487\n",
      "        Gold       1.00      1.00      1.00      1772\n",
      "    Platinum       0.99      1.00      1.00      1781\n",
      "      Silver       0.98      0.99      0.98       741\n",
      "\n",
      "    accuracy                           0.99      4781\n",
      "   macro avg       0.99      0.98      0.99      4781\n",
      "weighted avg       0.99      0.99      0.99      4781\n",
      "\n"
     ]
    }
   ],
   "source": [
    "from sklearn.metrics import classification_report\n",
    "class_rep_tree = classification_report(test_labels,pred_labels_tree)\n",
    "print('Decision Tree: \\n', class_rep_tree)"
   ]
  },
  {
   "cell_type": "markdown",
   "id": "430f36cf",
   "metadata": {},
   "source": [
    "##### Random Forest"
   ]
  },
  {
   "cell_type": "code",
   "execution_count": 111,
   "id": "f315825e",
   "metadata": {},
   "outputs": [
    {
     "data": {
      "text/plain": [
       "RandomForestClassifier()"
      ]
     },
     "execution_count": 111,
     "metadata": {},
     "output_type": "execute_result"
    }
   ],
   "source": [
    "from sklearn.ensemble import RandomForestClassifier\n",
    "rs = RandomForestClassifier()\n",
    "rs.fit(train_features, train_labels)"
   ]
  },
  {
   "cell_type": "code",
   "execution_count": 112,
   "id": "676a4aad",
   "metadata": {},
   "outputs": [],
   "source": [
    "pred_labels_rs = rs.predict(test_features)"
   ]
  },
  {
   "cell_type": "code",
   "execution_count": 114,
   "id": "4c4b85d8",
   "metadata": {},
   "outputs": [],
   "source": [
    "class_rep_rs = classification_report(test_labels, pred_labels_rs)"
   ]
  },
  {
   "cell_type": "code",
   "execution_count": 115,
   "id": "2ada36f4",
   "metadata": {},
   "outputs": [
    {
     "name": "stdout",
     "output_type": "stream",
     "text": [
      "RandomForestClassifier: \n",
      "               precision    recall  f1-score   support\n",
      "\n",
      "      Bronze       1.00      0.93      0.96       487\n",
      "        Gold       0.99      1.00      0.99      1772\n",
      "    Platinum       0.99      1.00      1.00      1781\n",
      "      Silver       0.99      0.99      0.99       741\n",
      "\n",
      "    accuracy                           0.99      4781\n",
      "   macro avg       0.99      0.98      0.99      4781\n",
      "weighted avg       0.99      0.99      0.99      4781\n",
      "\n"
     ]
    }
   ],
   "source": [
    "print('RandomForestClassifier: \\n', class_rep_rs)"
   ]
  },
  {
   "cell_type": "markdown",
   "id": "539e0c5c",
   "metadata": {},
   "source": [
    "##### Predict new segments on new data"
   ]
  },
  {
   "cell_type": "code",
   "execution_count": 116,
   "id": "86dc79d8",
   "metadata": {},
   "outputs": [],
   "source": [
    "output_label = tree.predict(new_customers1)"
   ]
  },
  {
   "cell_type": "code",
   "execution_count": 117,
   "id": "db827bd8",
   "metadata": {},
   "outputs": [],
   "source": [
    "new_customers['RFM_segments_predicted'] = output_label.tolist()"
   ]
  },
  {
   "cell_type": "code",
   "execution_count": 118,
   "id": "b5bb4c9a",
   "metadata": {},
   "outputs": [
    {
     "data": {
      "text/html": [
       "<div>\n",
       "<style scoped>\n",
       "    .dataframe tbody tr th:only-of-type {\n",
       "        vertical-align: middle;\n",
       "    }\n",
       "\n",
       "    .dataframe tbody tr th {\n",
       "        vertical-align: top;\n",
       "    }\n",
       "\n",
       "    .dataframe thead th {\n",
       "        text-align: right;\n",
       "    }\n",
       "</style>\n",
       "<table border=\"1\" class=\"dataframe\">\n",
       "  <thead>\n",
       "    <tr style=\"text-align: right;\">\n",
       "      <th></th>\n",
       "      <th>first_name</th>\n",
       "      <th>last_name</th>\n",
       "      <th>gender</th>\n",
       "      <th>RFM_segments_predicted</th>\n",
       "    </tr>\n",
       "  </thead>\n",
       "  <tbody>\n",
       "    <tr>\n",
       "      <th>0</th>\n",
       "      <td>Chickie</td>\n",
       "      <td>Brister</td>\n",
       "      <td>Male</td>\n",
       "      <td>Bronze</td>\n",
       "    </tr>\n",
       "    <tr>\n",
       "      <th>1</th>\n",
       "      <td>Morly</td>\n",
       "      <td>Genery</td>\n",
       "      <td>Male</td>\n",
       "      <td>Bronze</td>\n",
       "    </tr>\n",
       "    <tr>\n",
       "      <th>2</th>\n",
       "      <td>Ardelis</td>\n",
       "      <td>Forrester</td>\n",
       "      <td>Female</td>\n",
       "      <td>Bronze</td>\n",
       "    </tr>\n",
       "    <tr>\n",
       "      <th>3</th>\n",
       "      <td>Lucine</td>\n",
       "      <td>Stutt</td>\n",
       "      <td>Female</td>\n",
       "      <td>Gold</td>\n",
       "    </tr>\n",
       "    <tr>\n",
       "      <th>4</th>\n",
       "      <td>Melinda</td>\n",
       "      <td>Hadlee</td>\n",
       "      <td>Female</td>\n",
       "      <td>Silver</td>\n",
       "    </tr>\n",
       "    <tr>\n",
       "      <th>...</th>\n",
       "      <td>...</td>\n",
       "      <td>...</td>\n",
       "      <td>...</td>\n",
       "      <td>...</td>\n",
       "    </tr>\n",
       "    <tr>\n",
       "      <th>995</th>\n",
       "      <td>Ferdinand</td>\n",
       "      <td>Romanetti</td>\n",
       "      <td>Male</td>\n",
       "      <td>Platinum</td>\n",
       "    </tr>\n",
       "    <tr>\n",
       "      <th>996</th>\n",
       "      <td>Burk</td>\n",
       "      <td>Wortley</td>\n",
       "      <td>Male</td>\n",
       "      <td>Bronze</td>\n",
       "    </tr>\n",
       "    <tr>\n",
       "      <th>997</th>\n",
       "      <td>Melloney</td>\n",
       "      <td>Temby</td>\n",
       "      <td>Female</td>\n",
       "      <td>Gold</td>\n",
       "    </tr>\n",
       "    <tr>\n",
       "      <th>998</th>\n",
       "      <td>Dickie</td>\n",
       "      <td>Cubbini</td>\n",
       "      <td>Male</td>\n",
       "      <td>Platinum</td>\n",
       "    </tr>\n",
       "    <tr>\n",
       "      <th>999</th>\n",
       "      <td>Sylas</td>\n",
       "      <td>Duffill</td>\n",
       "      <td>Male</td>\n",
       "      <td>Platinum</td>\n",
       "    </tr>\n",
       "  </tbody>\n",
       "</table>\n",
       "<p>983 rows × 4 columns</p>\n",
       "</div>"
      ],
      "text/plain": [
       "    first_name  last_name  gender RFM_segments_predicted\n",
       "0      Chickie    Brister    Male                 Bronze\n",
       "1        Morly     Genery    Male                 Bronze\n",
       "2      Ardelis  Forrester  Female                 Bronze\n",
       "3       Lucine      Stutt  Female                   Gold\n",
       "4      Melinda     Hadlee  Female                 Silver\n",
       "..         ...        ...     ...                    ...\n",
       "995  Ferdinand  Romanetti    Male               Platinum\n",
       "996       Burk    Wortley    Male                 Bronze\n",
       "997   Melloney      Temby  Female                   Gold\n",
       "998     Dickie    Cubbini    Male               Platinum\n",
       "999      Sylas    Duffill    Male               Platinum\n",
       "\n",
       "[983 rows x 4 columns]"
      ]
     },
     "execution_count": 118,
     "metadata": {},
     "output_type": "execute_result"
    }
   ],
   "source": [
    "new_customers[['first_name','last_name','gender','RFM_segments_predicted']]"
   ]
  },
  {
   "cell_type": "code",
   "execution_count": 120,
   "id": "1ff84e07",
   "metadata": {},
   "outputs": [],
   "source": [
    "new_customers.to_excel('predicted_new_customers.xlsx')"
   ]
  },
  {
   "cell_type": "code",
   "execution_count": null,
   "id": "4dacb4f4",
   "metadata": {},
   "outputs": [],
   "source": []
  }
 ],
 "metadata": {
  "kernelspec": {
   "display_name": "Python 3",
   "language": "python",
   "name": "python3"
  },
  "language_info": {
   "codemirror_mode": {
    "name": "ipython",
    "version": 3
   },
   "file_extension": ".py",
   "mimetype": "text/x-python",
   "name": "python",
   "nbconvert_exporter": "python",
   "pygments_lexer": "ipython3",
   "version": "3.8.8"
  }
 },
 "nbformat": 4,
 "nbformat_minor": 5
}
